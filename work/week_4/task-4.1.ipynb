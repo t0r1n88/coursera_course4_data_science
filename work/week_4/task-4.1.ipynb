{
 "cells": [
  {
   "cell_type": "markdown",
   "metadata": {},
   "source": [
    "# Методы обучения без учителя.\n",
    "## Методы кластеризации"
   ]
  },
  {
   "cell_type": "markdown",
   "metadata": {},
   "source": [
    "В этом задании вам необходимо будет применить 3 метода кластеризации к данным.\n",
    "\n",
    "Для каждого метода будет свой вопрос, ответ на который надо будет передать на портал"
   ]
  },
  {
   "cell_type": "code",
   "execution_count": 1,
   "metadata": {},
   "outputs": [],
   "source": [
    "import pandas as pd\n",
    "import matplotlib.pyplot as plt\n",
    "import numpy as np\n",
    "\n",
    "%matplotlib inline"
   ]
  },
  {
   "cell_type": "markdown",
   "metadata": {},
   "source": [
    "## Подготовка данных\n",
    "\n",
    "Для начала загрузим данные из этой [статьи](https://fivethirtyeight.com/features/weather-forecast-news-app-habits/)"
   ]
  },
  {
   "cell_type": "code",
   "execution_count": 2,
   "metadata": {},
   "outputs": [],
   "source": [
    "df = pd.read_csv('./weather-check.csv')"
   ]
  },
  {
   "cell_type": "code",
   "execution_count": 3,
   "metadata": {},
   "outputs": [
    {
     "data": {
      "text/html": [
       "<div>\n",
       "<style scoped>\n",
       "    .dataframe tbody tr th:only-of-type {\n",
       "        vertical-align: middle;\n",
       "    }\n",
       "\n",
       "    .dataframe tbody tr th {\n",
       "        vertical-align: top;\n",
       "    }\n",
       "\n",
       "    .dataframe thead th {\n",
       "        text-align: right;\n",
       "    }\n",
       "</style>\n",
       "<table border=\"1\" class=\"dataframe\">\n",
       "  <thead>\n",
       "    <tr style=\"text-align: right;\">\n",
       "      <th></th>\n",
       "      <th>RespondentID</th>\n",
       "      <th>Do you typically check a daily weather report?</th>\n",
       "      <th>How do you typically check the weather?</th>\n",
       "      <th>A specific website or app (please provide the answer)</th>\n",
       "      <th>If you had a smartwatch (like the soon to be released Apple Watch), how likely or unlikely would you be to check the weather on that device?</th>\n",
       "      <th>Age</th>\n",
       "      <th>What is your gender?</th>\n",
       "      <th>How much total combined money did all members of your HOUSEHOLD earn last year?</th>\n",
       "      <th>US Region</th>\n",
       "    </tr>\n",
       "  </thead>\n",
       "  <tbody>\n",
       "    <tr>\n",
       "      <th>0</th>\n",
       "      <td>3887201482</td>\n",
       "      <td>Yes</td>\n",
       "      <td>The default weather app on your phone</td>\n",
       "      <td>-</td>\n",
       "      <td>Very likely</td>\n",
       "      <td>30 - 44</td>\n",
       "      <td>Male</td>\n",
       "      <td>$50,000 to $74,999</td>\n",
       "      <td>South Atlantic</td>\n",
       "    </tr>\n",
       "    <tr>\n",
       "      <th>1</th>\n",
       "      <td>3887159451</td>\n",
       "      <td>Yes</td>\n",
       "      <td>The default weather app on your phone</td>\n",
       "      <td>-</td>\n",
       "      <td>Very likely</td>\n",
       "      <td>18 - 29</td>\n",
       "      <td>Male</td>\n",
       "      <td>Prefer not to answer</td>\n",
       "      <td>-</td>\n",
       "    </tr>\n",
       "    <tr>\n",
       "      <th>2</th>\n",
       "      <td>3887152228</td>\n",
       "      <td>Yes</td>\n",
       "      <td>The default weather app on your phone</td>\n",
       "      <td>-</td>\n",
       "      <td>Very likely</td>\n",
       "      <td>30 - 44</td>\n",
       "      <td>Male</td>\n",
       "      <td>$100,000 to $124,999</td>\n",
       "      <td>Middle Atlantic</td>\n",
       "    </tr>\n",
       "    <tr>\n",
       "      <th>3</th>\n",
       "      <td>3887145426</td>\n",
       "      <td>Yes</td>\n",
       "      <td>The default weather app on your phone</td>\n",
       "      <td>-</td>\n",
       "      <td>Somewhat likely</td>\n",
       "      <td>30 - 44</td>\n",
       "      <td>Male</td>\n",
       "      <td>Prefer not to answer</td>\n",
       "      <td>-</td>\n",
       "    </tr>\n",
       "    <tr>\n",
       "      <th>4</th>\n",
       "      <td>3887021873</td>\n",
       "      <td>Yes</td>\n",
       "      <td>A specific website or app (please provide the ...</td>\n",
       "      <td>Iphone app</td>\n",
       "      <td>Very likely</td>\n",
       "      <td>30 - 44</td>\n",
       "      <td>Male</td>\n",
       "      <td>$150,000 to $174,999</td>\n",
       "      <td>Middle Atlantic</td>\n",
       "    </tr>\n",
       "  </tbody>\n",
       "</table>\n",
       "</div>"
      ],
      "text/plain": [
       "   RespondentID Do you typically check a daily weather report?  \\\n",
       "0    3887201482                                            Yes   \n",
       "1    3887159451                                            Yes   \n",
       "2    3887152228                                            Yes   \n",
       "3    3887145426                                            Yes   \n",
       "4    3887021873                                            Yes   \n",
       "\n",
       "             How do you typically check the weather?  \\\n",
       "0              The default weather app on your phone   \n",
       "1              The default weather app on your phone   \n",
       "2              The default weather app on your phone   \n",
       "3              The default weather app on your phone   \n",
       "4  A specific website or app (please provide the ...   \n",
       "\n",
       "  A specific website or app (please provide the answer)  \\\n",
       "0                                                  -      \n",
       "1                                                  -      \n",
       "2                                                  -      \n",
       "3                                                  -      \n",
       "4                                         Iphone app      \n",
       "\n",
       "  If you had a smartwatch (like the soon to be released Apple Watch), how likely or unlikely would you be to check the weather on that device?  \\\n",
       "0                                        Very likely                                                                                             \n",
       "1                                        Very likely                                                                                             \n",
       "2                                        Very likely                                                                                             \n",
       "3                                    Somewhat likely                                                                                             \n",
       "4                                        Very likely                                                                                             \n",
       "\n",
       "       Age What is your gender?  \\\n",
       "0  30 - 44                 Male   \n",
       "1  18 - 29                 Male   \n",
       "2  30 - 44                 Male   \n",
       "3  30 - 44                 Male   \n",
       "4  30 - 44                 Male   \n",
       "\n",
       "  How much total combined money did all members of your HOUSEHOLD earn last year?  \\\n",
       "0                                 $50,000 to $74,999                                \n",
       "1                               Prefer not to answer                                \n",
       "2                               $100,000 to $124,999                                \n",
       "3                               Prefer not to answer                                \n",
       "4                               $150,000 to $174,999                                \n",
       "\n",
       "         US Region  \n",
       "0   South Atlantic  \n",
       "1                -  \n",
       "2  Middle Atlantic  \n",
       "3                -  \n",
       "4  Middle Atlantic  "
      ]
     },
     "execution_count": 3,
     "metadata": {},
     "output_type": "execute_result"
    }
   ],
   "source": [
    "df.head()"
   ]
  },
  {
   "cell_type": "markdown",
   "metadata": {},
   "source": [
    "Они представляют из сбея результат небольшого опроса жителей США на тему того, как они проверяют прогноз прогоды. Кроме того в опроснике есть пункты, связанные с соц-дем информацией: возраст, пол, заработок, регион. \n",
    "\n",
    "Все признаки, в данном случае, являются категориальными.\n",
    "\n",
    "Для начала удалим столбец с идентификатором респондентов и столбец с открытым вопросом."
   ]
  },
  {
   "cell_type": "code",
   "execution_count": 4,
   "metadata": {},
   "outputs": [],
   "source": [
    "df = df.drop(labels=df.columns[0], axis=1)\n",
    "df = df.drop(labels=df.columns[2], axis=1)"
   ]
  },
  {
   "cell_type": "code",
   "execution_count": 5,
   "metadata": {},
   "outputs": [
    {
     "data": {
      "text/html": [
       "<div>\n",
       "<style scoped>\n",
       "    .dataframe tbody tr th:only-of-type {\n",
       "        vertical-align: middle;\n",
       "    }\n",
       "\n",
       "    .dataframe tbody tr th {\n",
       "        vertical-align: top;\n",
       "    }\n",
       "\n",
       "    .dataframe thead th {\n",
       "        text-align: right;\n",
       "    }\n",
       "</style>\n",
       "<table border=\"1\" class=\"dataframe\">\n",
       "  <thead>\n",
       "    <tr style=\"text-align: right;\">\n",
       "      <th></th>\n",
       "      <th>Do you typically check a daily weather report?</th>\n",
       "      <th>How do you typically check the weather?</th>\n",
       "      <th>If you had a smartwatch (like the soon to be released Apple Watch), how likely or unlikely would you be to check the weather on that device?</th>\n",
       "      <th>Age</th>\n",
       "      <th>What is your gender?</th>\n",
       "      <th>How much total combined money did all members of your HOUSEHOLD earn last year?</th>\n",
       "      <th>US Region</th>\n",
       "    </tr>\n",
       "  </thead>\n",
       "  <tbody>\n",
       "    <tr>\n",
       "      <th>0</th>\n",
       "      <td>Yes</td>\n",
       "      <td>The default weather app on your phone</td>\n",
       "      <td>Very likely</td>\n",
       "      <td>30 - 44</td>\n",
       "      <td>Male</td>\n",
       "      <td>$50,000 to $74,999</td>\n",
       "      <td>South Atlantic</td>\n",
       "    </tr>\n",
       "    <tr>\n",
       "      <th>1</th>\n",
       "      <td>Yes</td>\n",
       "      <td>The default weather app on your phone</td>\n",
       "      <td>Very likely</td>\n",
       "      <td>18 - 29</td>\n",
       "      <td>Male</td>\n",
       "      <td>Prefer not to answer</td>\n",
       "      <td>-</td>\n",
       "    </tr>\n",
       "    <tr>\n",
       "      <th>2</th>\n",
       "      <td>Yes</td>\n",
       "      <td>The default weather app on your phone</td>\n",
       "      <td>Very likely</td>\n",
       "      <td>30 - 44</td>\n",
       "      <td>Male</td>\n",
       "      <td>$100,000 to $124,999</td>\n",
       "      <td>Middle Atlantic</td>\n",
       "    </tr>\n",
       "    <tr>\n",
       "      <th>3</th>\n",
       "      <td>Yes</td>\n",
       "      <td>The default weather app on your phone</td>\n",
       "      <td>Somewhat likely</td>\n",
       "      <td>30 - 44</td>\n",
       "      <td>Male</td>\n",
       "      <td>Prefer not to answer</td>\n",
       "      <td>-</td>\n",
       "    </tr>\n",
       "    <tr>\n",
       "      <th>4</th>\n",
       "      <td>Yes</td>\n",
       "      <td>A specific website or app (please provide the ...</td>\n",
       "      <td>Very likely</td>\n",
       "      <td>30 - 44</td>\n",
       "      <td>Male</td>\n",
       "      <td>$150,000 to $174,999</td>\n",
       "      <td>Middle Atlantic</td>\n",
       "    </tr>\n",
       "  </tbody>\n",
       "</table>\n",
       "</div>"
      ],
      "text/plain": [
       "  Do you typically check a daily weather report?  \\\n",
       "0                                            Yes   \n",
       "1                                            Yes   \n",
       "2                                            Yes   \n",
       "3                                            Yes   \n",
       "4                                            Yes   \n",
       "\n",
       "             How do you typically check the weather?  \\\n",
       "0              The default weather app on your phone   \n",
       "1              The default weather app on your phone   \n",
       "2              The default weather app on your phone   \n",
       "3              The default weather app on your phone   \n",
       "4  A specific website or app (please provide the ...   \n",
       "\n",
       "  If you had a smartwatch (like the soon to be released Apple Watch), how likely or unlikely would you be to check the weather on that device?  \\\n",
       "0                                        Very likely                                                                                             \n",
       "1                                        Very likely                                                                                             \n",
       "2                                        Very likely                                                                                             \n",
       "3                                    Somewhat likely                                                                                             \n",
       "4                                        Very likely                                                                                             \n",
       "\n",
       "       Age What is your gender?  \\\n",
       "0  30 - 44                 Male   \n",
       "1  18 - 29                 Male   \n",
       "2  30 - 44                 Male   \n",
       "3  30 - 44                 Male   \n",
       "4  30 - 44                 Male   \n",
       "\n",
       "  How much total combined money did all members of your HOUSEHOLD earn last year?  \\\n",
       "0                                 $50,000 to $74,999                                \n",
       "1                               Prefer not to answer                                \n",
       "2                               $100,000 to $124,999                                \n",
       "3                               Prefer not to answer                                \n",
       "4                               $150,000 to $174,999                                \n",
       "\n",
       "         US Region  \n",
       "0   South Atlantic  \n",
       "1                -  \n",
       "2  Middle Atlantic  \n",
       "3                -  \n",
       "4  Middle Atlantic  "
      ]
     },
     "execution_count": 5,
     "metadata": {},
     "output_type": "execute_result"
    }
   ],
   "source": [
    "df.head()"
   ]
  },
  {
   "cell_type": "markdown",
   "metadata": {},
   "source": [
    "Далее выполним перекодировку признаков с помощью метода `pd.get_dummies`. \n",
    "\n",
    "Конечно, для таких признаков как \"заработок\" или \"регион проживания\" можно выполнить более интеллектуальное преобразование (например учитывающее, что ответ \"50,000 to  74,999\" ближе к \"80,000 to 99,999\", чем к \"150,000 to 174,999\"), но для первого подхода мы этого делать не будем."
   ]
  },
  {
   "cell_type": "markdown",
   "metadata": {},
   "source": [
    "# pd.get_dummies \n",
    "Превращает категиориальные признаки в список столбцов.\n",
    "Если если у наблюдения есть какой то конкретный признак, то в столбце\n",
    "который соотвествует этому признаку будет 1, а в других столбцах 0"
   ]
  },
  {
   "cell_type": "code",
   "execution_count": 6,
   "metadata": {},
   "outputs": [],
   "source": [
    "df_dummy = pd.get_dummies(df)"
   ]
  },
  {
   "cell_type": "code",
   "execution_count": 7,
   "metadata": {},
   "outputs": [],
   "source": [
    "X = df_dummy.values"
   ]
  },
  {
   "cell_type": "markdown",
   "metadata": {},
   "source": [
    "## Kmeans"
   ]
  },
  {
   "cell_type": "markdown",
   "metadata": {},
   "source": [
    "Обычно, результаты kmeans на данных, полностью состоящим из категориальных признаков, получаются не такими хорошими.\n",
    "\n",
    "* Обучите метод к-средних с `n_clusters` от 2 до 20 и `random_state=123`\n",
    "* Создайте массив `scores`\n",
    "* Для каждого запуска вычислите `silhouette_score` полученной кластеризации\n",
    "* В переменную `answer1` сохраните значение наибольшего значения из `scores` c точностью до сотых"
   ]
  },
  {
   "cell_type": "code",
   "execution_count": 11,
   "metadata": {},
   "outputs": [],
   "source": [
    "from sklearn.cluster import KMeans\n",
    "from sklearn.metrics import silhouette_score"
   ]
  },
  {
   "cell_type": "code",
   "execution_count": 12,
   "metadata": {},
   "outputs": [],
   "source": [
    "# Параметры графиков\n",
    "plt.style.use('ggplot')\n",
    "plt.rcParams['figure.figsize']=(12,8)"
   ]
  },
  {
   "cell_type": "code",
   "execution_count": 15,
   "metadata": {},
   "outputs": [
    {
     "data": {
      "text/plain": [
       "KMeans(algorithm='auto', copy_x=True, init='k-means++', max_iter=300,\n",
       "       n_clusters=2, n_init=10, n_jobs=None, precompute_distances='auto',\n",
       "       random_state=1, tol=0.0001, verbose=0)"
      ]
     },
     "execution_count": 15,
     "metadata": {},
     "output_type": "execute_result"
    }
   ],
   "source": [
    "kmeans= KMeans(n_clusters=2,init='k-means++',n_init=10,random_state=1)\n",
    "kmeans.fit(X)"
   ]
  },
  {
   "cell_type": "code",
   "execution_count": 20,
   "metadata": {},
   "outputs": [
    {
     "data": {
      "text/plain": [
       "0.1002864128782305"
      ]
     },
     "execution_count": 20,
     "metadata": {},
     "output_type": "execute_result"
    }
   ],
   "source": [
    "silhouette_score(X,kmeans.labels_)"
   ]
  },
  {
   "cell_type": "code",
   "execution_count": null,
   "metadata": {},
   "outputs": [],
   "source": [
    "# Получим метки кластеров и визуализируем их\n",
    "labels = kmeans.labels_\n",
    "plt.scatter(X[:,0],X[:,1],c=labels)"
   ]
  },
  {
   "cell_type": "markdown",
   "metadata": {},
   "source": [
    "### *РЕШЕНИЕ*"
   ]
  },
  {
   "cell_type": "code",
   "execution_count": 22,
   "metadata": {},
   "outputs": [],
   "source": [
    "scores = []\n",
    "for k in range(2,21):\n",
    "    # Создаем с заданными параметрами\n",
    "    kmeans = KMeans(n_clusters=k,random_state=123)\n",
    "    # Обучаем модель\n",
    "    kmeans.fit(X)\n",
    "    \n",
    "    # Добавляем результат в список\n",
    "    scores.append(silhouette_score(X,kmeans.labels_))\n",
    "\n",
    "    \n",
    "    "
   ]
  },
  {
   "cell_type": "code",
   "execution_count": 24,
   "metadata": {},
   "outputs": [
    {
     "data": {
      "text/plain": [
       "[<matplotlib.lines.Line2D at 0x9f3bedd2b0>]"
      ]
     },
     "execution_count": 24,
     "metadata": {},
     "output_type": "execute_result"
    },
    {
     "data": {
      "image/png": "[encoded data removed]",
      "text/plain": [
       "<Figure size 864x576 with 1 Axes>"
      ]
     },
     "metadata": {},
     "output_type": "display_data"
    }
   ],
   "source": [
    "plt.plot(range(2,21),scores)"
   ]
  },
  {
   "cell_type": "code",
   "execution_count": 29,
   "metadata": {},
   "outputs": [
    {
     "data": {
      "text/plain": [
       "0.1002864128782305"
      ]
     },
     "execution_count": 29,
     "metadata": {},
     "output_type": "execute_result"
    }
   ],
   "source": [
    "answer1 = max(scores)\n",
    "answer1"
   ]
  },
  {
   "cell_type": "markdown",
   "metadata": {},
   "source": [
    "## Агломеративная кластеризация"
   ]
  },
  {
   "cell_type": "markdown",
   "metadata": {},
   "source": [
    "Попробуем применить агломеративную кластеризацию\n",
    "\n",
    "* Прогоните метод с параметрами `method='average'`, `metric='cosine'`\n",
    "* Визуализируйте полученную дендрограмму\n",
    "* Выделите 5 кластеров из полученной иерархии\n",
    "* В переменную `answer2` запишите долю мужчин во втором по величине кластере с точностью до сотых"
   ]
  },
  {
   "cell_type": "code",
   "execution_count": 30,
   "metadata": {},
   "outputs": [],
   "source": [
    "from scipy.cluster.hierarchy import fcluster, dendrogram, linkage"
   ]
  },
  {
   "cell_type": "markdown",
   "metadata": {},
   "source": [
    "### *РЕШЕНИЕ*"
   ]
  },
  {
   "cell_type": "code",
   "execution_count": 31,
   "metadata": {},
   "outputs": [],
   "source": [
    "# Проделаем иерархическую кластеризацию\n",
    "Z = linkage(X,method='average',metric='cosine')"
   ]
  },
  {
   "cell_type": "code",
   "execution_count": 33,
   "metadata": {},
   "outputs": [
    {
     "data": {
      "text/plain": [
       "array([[2.00000000e+00, 4.30000000e+01, 1.11022302e-16, 2.00000000e+00],\n",
       "       [7.00000000e+00, 7.40000000e+01, 1.11022302e-16, 2.00000000e+00],\n",
       "       [1.20000000e+01, 2.40000000e+01, 1.11022302e-16, 2.00000000e+00],\n",
       "       ...,\n",
       "       [1.84600000e+03, 1.84900000e+03, 7.14213948e-01, 7.64000000e+02],\n",
       "       [1.85100000e+03, 1.85200000e+03, 7.87793272e-01, 9.16000000e+02],\n",
       "       [1.62200000e+03, 1.85300000e+03, 9.12806717e-01, 9.28000000e+02]])"
      ]
     },
     "execution_count": 33,
     "metadata": {},
     "output_type": "execute_result"
    }
   ],
   "source": [
    "Z"
   ]
  },
  {
   "cell_type": "code",
   "execution_count": 36,
   "metadata": {},
   "outputs": [
    {
     "data": {
      "image/png": "[encoded data removed]",
      "text/plain": [
       "<Figure size 864x576 with 1 Axes>"
      ]
     },
     "metadata": {},
     "output_type": "display_data"
    }
   ],
   "source": [
    "# Построили дендрограмму.В которой правда ничего не понятно\n",
    "dend = dendrogram(Z,orientation='left',color_threshold=0.0)"
   ]
  },
  {
   "cell_type": "code",
   "execution_count": 38,
   "metadata": {},
   "outputs": [
    {
     "data": {
      "text/plain": [
       "array([1, 2, 3, 4, 5], dtype=int32)"
      ]
     },
     "execution_count": 38,
     "metadata": {},
     "output_type": "execute_result"
    }
   ],
   "source": [
    "# Разбиваем на кластеры\n",
    "label = fcluster(Z,0.7,criterion='distance')\n",
    "np.unique(label)"
   ]
  },
  {
   "cell_type": "code",
   "execution_count": 80,
   "metadata": {},
   "outputs": [
    {
     "data": {
      "text/plain": [
       "4    433\n",
       "5    331\n",
       "2     92\n",
       "3     60\n",
       "1     12\n",
       "Name: label, dtype: int64"
      ]
     },
     "execution_count": 80,
     "metadata": {},
     "output_type": "execute_result"
    }
   ],
   "source": [
    "df['label'].value_counts()"
   ]
  },
  {
   "cell_type": "code",
   "execution_count": 93,
   "metadata": {},
   "outputs": [],
   "source": [
    "# Вторая по числености группа это 5\n",
    "# Отфильтруем \n",
    "c = df[df['label']==5]['What is your gender?'].value_counts()\n"
   ]
  },
  {
   "cell_type": "code",
   "execution_count": 95,
   "metadata": {},
   "outputs": [
    {
     "data": {
      "text/plain": [
       "Male      313\n",
       "Female     18\n",
       "Name: What is your gender?, dtype: int64"
      ]
     },
     "execution_count": 95,
     "metadata": {},
     "output_type": "execute_result"
    }
   ],
   "source": [
    "c"
   ]
  },
  {
   "cell_type": "code",
   "execution_count": 96,
   "metadata": {},
   "outputs": [],
   "source": [
    "# Нулевой индекс в данной Series это мужчины, а 1 это женщины\n",
    "male = c[0]\n",
    "female = c[1]\n",
    "answer2 = male /(male+female)"
   ]
  },
  {
   "cell_type": "code",
   "execution_count": 97,
   "metadata": {},
   "outputs": [
    {
     "data": {
      "text/plain": [
       "0.945619335347432"
      ]
     },
     "execution_count": 97,
     "metadata": {},
     "output_type": "execute_result"
    }
   ],
   "source": [
    "answer2"
   ]
  },
  {
   "cell_type": "markdown",
   "metadata": {},
   "source": [
    "## DBSCAN"
   ]
  },
  {
   "cell_type": "markdown",
   "metadata": {},
   "source": [
    "Возможно вы уже успели заметить, что часть респондентов практически не отвечали на заданные вопросы - то есть в соответствующих графах стоит символ \"-\". \"Молчунами\" будем называть участников опроса, которые не ответили ни на один вопрос. Таких респондентов можно сразу исключить из дальнейших исследований.\n",
    "\n",
    "* Переберите значение параметра `eps` в интервале [0.1, 1] с шагом 0.1\n",
    "* Остальные параметрамы установите следующим образом `min_samples=20`, `metric='cosine'`\n",
    "* В переменную `answer3` запишите значение `eps` (c точностью до **сотых**) при котором алгоритм выделит всех \"молчунов\" в отдельный кластер с выбросами"
   ]
  },
  {
   "cell_type": "code",
   "execution_count": 49,
   "metadata": {},
   "outputs": [],
   "source": [
    "from sklearn.cluster import DBSCAN"
   ]
  },
  {
   "cell_type": "markdown",
   "metadata": {},
   "source": [
    "### *РЕШЕНИЕ*"
   ]
  },
  {
   "cell_type": "code",
   "execution_count": 60,
   "metadata": {},
   "outputs": [],
   "source": [
    "for i in np.linspace(0.1,1,10):\n",
    "    dbscsn = DBSCAN(eps,min_samples=20,metric='cosine')\n",
    "    dbscsn.fit(X)\n",
    "    labels= dbscsn.labels_\n",
    "    pd.Series(labels).value_counts()"
   ]
  },
  {
   "cell_type": "code",
   "execution_count": 52,
   "metadata": {},
   "outputs": [
    {
     "data": {
      "text/plain": [
       "-1    928\n",
       "dtype: int64"
      ]
     },
     "execution_count": 52,
     "metadata": {},
     "output_type": "execute_result"
    }
   ],
   "source": [
    "dbscsn = DBSCAN(0.1,min_samples=20,metric='cosine')\n",
    "dbscsn.fit(X)\n",
    "labels= dbscsn.labels_\n",
    "pd.Series(labels).value_counts()"
   ]
  },
  {
   "cell_type": "code",
   "execution_count": 100,
   "metadata": {},
   "outputs": [
    {
     "data": {
      "text/plain": [
       " 0    916\n",
       "-1     12\n",
       "dtype: int64"
      ]
     },
     "execution_count": 100,
     "metadata": {},
     "output_type": "execute_result"
    }
   ],
   "source": [
    "dbscsn = DBSCAN(0.5,min_samples=20,metric='cosine')\n",
    "dbscsn.fit(X)\n",
    "labels= dbscsn.labels_\n",
    "pd.Series(labels).value_counts()"
   ]
  },
  {
   "cell_type": "code",
   "execution_count": 101,
   "metadata": {},
   "outputs": [],
   "source": [
    "answer3=0.5"
   ]
  },
  {
   "cell_type": "markdown",
   "metadata": {},
   "source": [
    "# Строка с ответами"
   ]
  },
  {
   "cell_type": "code",
   "execution_count": 102,
   "metadata": {},
   "outputs": [
    {
     "name": "stdout",
     "output_type": "stream",
     "text": [
      "kmeans 0.10\n",
      "agg 0.95\n",
      "dbscan 0.50\n"
     ]
    }
   ],
   "source": [
    "print('kmeans {:.2f}\\nagg {:.2f}\\ndbscan {:.2f}'.format(answer1, answer2, answer3))"
   ]
  },
  {
   "cell_type": "code",
   "execution_count": null,
   "metadata": {},
   "outputs": [],
   "source": []
  }
 ],
 "metadata": {
  "anaconda-cloud": {},
  "kernelspec": {
   "display_name": "Python 3",
   "language": "python",
   "name": "python3"
  },
  "language_info": {
   "codemirror_mode": {
    "name": "ipython",
    "version": 3
   },
   "file_extension": ".py",
   "mimetype": "text/x-python",
   "name": "python",
   "nbconvert_exporter": "python",
   "pygments_lexer": "ipython3",
   "version": "3.6.9"
  },
  "toc": {
   "base_numbering": 1,
   "nav_menu": {
    "height": "216px",
    "width": "252px"
   },
   "number_sections": true,
   "sideBar": true,
   "skip_h1_title": false,
   "title_cell": "Table of Contents",
   "title_sidebar": "Contents",
   "toc_cell": false,
   "toc_position": {},
   "toc_section_display": "block",
   "toc_window_display": false
  }
 },
 "nbformat": 4,
 "nbformat_minor": 2
}
