{
  "nbformat": 4,
  "nbformat_minor": 0,
  "metadata": {
    "colab": {
      "name": "Untitled0.ipynb",
      "provenance": []
    },
    "kernelspec": {
      "name": "python3",
      "display_name": "Python 3"
    }
  },
  "cells": [
    {
      "cell_type": "code",
      "metadata": {
        "id": "CprekeMOythL",
        "colab_type": "code",
        "colab": {}
      },
      "source": [
        "import tensorflow as tf"
      ],
      "execution_count": 0,
      "outputs": []
    },
    {
      "cell_type": "code",
      "metadata": {
        "id": "0LVHDVTbAIb9",
        "colab_type": "code",
        "colab": {
          "base_uri": "https://localhost:8080/",
          "height": 102
        },
        "outputId": "78e6aafd-168c-4fdc-9e84-4d02bb4d6cfb"
      },
      "source": [
        "%tensorflow_version 1.6"
      ],
      "execution_count": 2,
      "outputs": [
        {
          "output_type": "stream",
          "text": [
            "`%tensorflow_version` only switches the major version: 1.x or 2.x.\n",
            "You set: `1.6`. This will be interpreted as: `1.x`.\n",
            "\n",
            "\n",
            "TensorFlow is already loaded. Please restart the runtime to change versions.\n"
          ],
          "name": "stdout"
        }
      ]
    },
    {
      "cell_type": "markdown",
      "metadata": {
        "id": "yFRlhe728Z0z",
        "colab_type": "text"
      },
      "source": [
        "Нейронные сети. Архитектуры нейронных сетей\n",
        "\n",
        "Подготовка данных¶\n",
        "\n",
        "В этом практическом заданий мы будем решать задачу классификации цифр на датасете mnist с помощью полносвязной и сверточной нейронной сети. Для этого мы будем использовать надстройку над tensorflow, которая называется keras. Для начала обсудим данные. mnist датасет состоит из черно-белых изображений цифр размером 28×28 пикселей. В данном случае, мы работаем с одним каналом, хотя в случае цветных изображений, общее число каналов равно трем. Загрузим наши данные используя функцию load_data объекта mnist из модуля keras.dataset. Перед выполнением этого задания убедитесь, что ваша версия tensorflow >= 1.4.\n"
      ]
    },
    {
      "cell_type": "code",
      "metadata": {
        "id": "kklhOQFqy-ln",
        "colab_type": "code",
        "colab": {}
      },
      "source": [
        "# Разделим датасет на тренировочную и тестовую выборки\n",
        "(x_train, y_train), (x_test, y_test) = tf.keras.datasets.mnist.load_data()"
      ],
      "execution_count": 0,
      "outputs": []
    },
    {
      "cell_type": "code",
      "metadata": {
        "id": "1PUtlKur_VXR",
        "colab_type": "code",
        "colab": {
          "base_uri": "https://localhost:8080/",
          "height": 34
        },
        "outputId": "de0ec1e3-87df-4fb8-88ac-129015e0f246"
      },
      "source": [
        "x_train.shape,x_test.shape"
      ],
      "execution_count": 64,
      "outputs": [
        {
          "output_type": "execute_result",
          "data": {
            "text/plain": [
              "((60000, 28, 28), (10000, 28, 28))"
            ]
          },
          "metadata": {
            "tags": []
          },
          "execution_count": 64
        }
      ]
    },
    {
      "cell_type": "markdown",
      "metadata": {
        "id": "I1uodxcF9K8c",
        "colab_type": "text"
      },
      "source": [
        "Нормализуйте заруженные данные `x_train` и `x_test`. Для этого следует разделить числовое значение каждого пикселя на $255$. Далее, переведите `y_train` и `y_test` в one-hot представление, используя функцию `tf.keras.utils.to_categorical`. \n",
        "Наше первое задание будет заключатся в реализации полносвязной нейронной сети. Поэтому измените размерность тренировочных и тестовых данных с помощью метода `reshape`.\n",
        "    >> np_vector.shape\n",
        "    >> (28, 28)\n",
        "    >> np_vector = np_vector.reshape(28 * 28)\n",
        "    >> np_vector.shape\n",
        "    >> (784,)"
      ]
    },
    {
      "cell_type": "code",
      "metadata": {
        "id": "MY7QtXA68X4e",
        "colab_type": "code",
        "colab": {}
      },
      "source": [
        "# Приводим к float  и нормализуем данные\n",
        "x_train = x_train.astype('float32') / 255\n",
        "x_test = x_test.astype('float32') / 255\n",
        "\n",
        "# Переводим в one-hot.У нас 10 возможных цифр\n",
        "y_train = tf.keras.utils.to_categorical(y_train,10)\n",
        "y_test = tf.keras.utils.to_categorical(y_test,10)\n",
        "\n",
        "# Изменяем размерность\n",
        "x_train = x_train.reshape(60000,784)\n",
        "x_test = x_test.reshape(10000,784)\n",
        "\n"
      ],
      "execution_count": 0,
      "outputs": []
    },
    {
      "cell_type": "markdown",
      "metadata": {
        "id": "UWl1sAhKAn0j",
        "colab_type": "text"
      },
      "source": [
        "Полносвязная нейронная сеть.\n",
        "В этой части задания вам предлагается реализовать обычную нейронную сеть с использованием последовательной модели tf.keras.models.Sequential. Данная модель позволяет добавлять слои при помощи функции встроенной add. \n",
        "Наша нейронная сеть будет состоять всего лишь из одного скрытого слоя с количеством нейроннов равным 256, функцией активации ReLU и с input_shape=(784,), что соответствует количеству нейронов во входном слое нашей нейронной сети. Количество нейроннов в выходном слое равно количеству классов, в качестве функции активации нужно использовать softmax. Не забудьте вызвать model.compile после добавления слоев. Используйте в качестве функции потерь categorical_crossentropy, оптимизатор adadelta и метрику accuracy."
      ]
    },
    {
      "cell_type": "code",
      "metadata": {
        "id": "yi7EsZpk9DbM",
        "colab_type": "code",
        "colab": {}
      },
      "source": [
        "# Создаем модель\n",
        "model_1 = tf.keras.models.Sequential() \n",
        "\n",
        "# Добавляем слои с требуемыми характеристиками\n",
        "# Скрытый слой\n",
        "model_1.add(tf.keras.layers.Dense(256,activation='relu',input_shape=(784,)))\n",
        "# Выходной слой\n",
        "model_1.add(tf.keras.layers.Dense(10,activation='softmax'))\n"
      ],
      "execution_count": 0,
      "outputs": []
    },
    {
      "cell_type": "code",
      "metadata": {
        "id": "khhW3eTFzOAK",
        "colab_type": "code",
        "colab": {}
      },
      "source": [
        "# Функция потерь\n",
        "model_1.compile(loss='categorical_crossentropy',optimizer=tf.keras.optimizers.Adadelta(),metrics=['accuracy'])"
      ],
      "execution_count": 0,
      "outputs": []
    },
    {
      "cell_type": "markdown",
      "metadata": {
        "id": "UeMZSxVvCrfV",
        "colab_type": "text"
      },
      "source": [
        "После этого, создайте модель и загрузите веса нейронной сети из файла neural_networks.h5. Какое количество настраиваемых параметров содержится в этой нейронной сети. Запишите это число в качестве первого ответа answer1 на это задание. Оцените качетво на тестовой выборке и запишите это значение с точностью до трех знаков после запятой в переменную answer2."
      ]
    },
    {
      "cell_type": "code",
      "metadata": {
        "id": "HVDMtQn0Cm4w",
        "colab_type": "code",
        "colab": {
          "base_uri": "https://localhost:8080/",
          "height": 34
        },
        "outputId": "ad671313-76e2-479f-f5d0-69b794575507"
      },
      "source": [
        "# Загружаем веса нейронной сети\n",
        "model_1.load_weights('neural_networks.h5')\n",
        "# Количество настраиваемых параметров\n",
        "answer1 = model_1.count_params()\n",
        "answer1"
      ],
      "execution_count": 68,
      "outputs": [
        {
          "output_type": "execute_result",
          "data": {
            "text/plain": [
              "203530"
            ]
          },
          "metadata": {
            "tags": []
          },
          "execution_count": 68
        }
      ]
    },
    {
      "cell_type": "code",
      "metadata": {
        "id": "2s777hk4C-HQ",
        "colab_type": "code",
        "colab": {
          "base_uri": "https://localhost:8080/",
          "height": 51
        },
        "outputId": "fa8d49be-0a46-497e-a347-fce1089b4e93"
      },
      "source": [
        "# Оцениваем качество на тестовой выборке\n",
        "loss, accuracy = model_1.evaluate(x_test,y_test)\n",
        "answer2 =  accuracy\n",
        "answer2"
      ],
      "execution_count": 69,
      "outputs": [
        {
          "output_type": "stream",
          "text": [
            "313/313 [==============================] - 0s 1ms/step - loss: 0.0661 - accuracy: 0.9820\n"
          ],
          "name": "stdout"
        },
        {
          "output_type": "execute_result",
          "data": {
            "text/plain": [
              "0.9819999933242798"
            ]
          },
          "metadata": {
            "tags": []
          },
          "execution_count": 69
        }
      ]
    },
    {
      "cell_type": "markdown",
      "metadata": {
        "id": "12MauhixE3Lq",
        "colab_type": "text"
      },
      "source": [
        "Сверточная нейронная сеть\n",
        "Далее, вам предлагается реализовать сверточную нейронную сеть.\n",
        "\n",
        "Размерность входного слоя (28,28,1).\n",
        "Сверточный слой с 32 каналами, ядро свертки 3×3.\n",
        "Макспулинг слой (2,2).\n",
        "Сверточный слой с 64 каналами, ядро свертки 3×3.\n",
        "Макспулинг слой (2,2).\n",
        "Понижение размерности признаков.\n",
        "Полносвязный слой с 64 нейронами\n",
        "Выходной слой с количеством нейронов равному количеству классов.\n",
        "Для этого предлагается использовать следующие классы Convolution2D, MaxPooling2D и Flatten для понижения размерности признаков. Все эти классы как и слой полносвязной нейронной сети Dense находятся в tf.keras.layers. Используйте ReLU в качестве функции активации во всех слоях, где это потребуется, кроме выходного, в нем по аналогии с прошлым заданием используется softmax. Аналогичная ситуация с функцией compile после добавления слоев."
      ]
    },
    {
      "cell_type": "code",
      "metadata": {
        "id": "dgnSTgf8D4RM",
        "colab_type": "code",
        "colab": {}
      },
      "source": [
        "# Создаем модель сверточной нейронной сети\n",
        "model_2 = tf.keras.models.Sequential()\n",
        "# Добавляем слои\n",
        "# Сверточный слой\n",
        "model_2.add(tf.keras.layers.Convolution2D(32,(3,3),input_shape=(28,28,1),activation='relu'))\n",
        "model_2.add(tf.keras.layers.MaxPool2D((2,2)))\n",
        "model_2.add(tf.keras.layers.Convolution2D(64,(3,3),input_shape=(28,28,1),activation='relu'))\n",
        "model_2.add(tf.keras.layers.MaxPool2D((2,2)))\n",
        "model_2.add(tf.keras.layers.Flatten())\n",
        "# Полносвязный слой\n",
        "model_2.add(tf.keras.layers.Dense(64,activation='relu'))\n",
        "# Выходной слой\n",
        "model_2.add(tf.keras.layers.Dense(10,activation='softmax'))\n"
      ],
      "execution_count": 0,
      "outputs": []
    },
    {
      "cell_type": "code",
      "metadata": {
        "id": "7-BYUt3nI6b_",
        "colab_type": "code",
        "colab": {}
      },
      "source": [
        "# Функция потерь\n",
        "model_2.compile(loss='categorical_crossentropy',optimizer=tf.keras.optimizers.Adadelta(),metrics=['accuracy'])"
      ],
      "execution_count": 0,
      "outputs": []
    },
    {
      "cell_type": "markdown",
      "metadata": {
        "id": "sWa2K54PJUjp",
        "colab_type": "text"
      },
      "source": [
        ""
      ]
    },
    {
      "cell_type": "code",
      "metadata": {
        "id": "Jx0MEPMiJfj3",
        "colab_type": "code",
        "colab": {}
      },
      "source": [
        "# Изменяем размерность\n",
        "x_train = x_train.reshape((60000,28,28,1))\n",
        "x_test = x_test.reshape((10000,28,28,1))"
      ],
      "execution_count": 0,
      "outputs": []
    },
    {
      "cell_type": "code",
      "metadata": {
        "id": "LSGPaDImHsC1",
        "colab_type": "code",
        "colab": {}
      },
      "source": [
        "# Загружаем веса нейронной сети\n",
        "model_2.load_weights('conv_net.h5')"
      ],
      "execution_count": 0,
      "outputs": []
    },
    {
      "cell_type": "code",
      "metadata": {
        "id": "6r68L48rJ6Sa",
        "colab_type": "code",
        "colab": {
          "base_uri": "https://localhost:8080/",
          "height": 34
        },
        "outputId": "af0e4240-5483-4b46-81e3-3c86a3039d63"
      },
      "source": [
        "# Число параметров модели\n",
        "answer3 = model_2.count_params()\n",
        "answer3"
      ],
      "execution_count": 74,
      "outputs": [
        {
          "output_type": "execute_result",
          "data": {
            "text/plain": [
              "121930"
            ]
          },
          "metadata": {
            "tags": []
          },
          "execution_count": 74
        }
      ]
    },
    {
      "cell_type": "code",
      "metadata": {
        "id": "pi9LsfD_KN4l",
        "colab_type": "code",
        "colab": {
          "base_uri": "https://localhost:8080/",
          "height": 51
        },
        "outputId": "2c9acb43-8467-4bfa-e379-ec8e454fba6e"
      },
      "source": [
        "# Точность\n",
        "loss,accuracy = model_2.evaluate(x_test,y_test)\n",
        "answer4 = accuracy\n",
        "answer4"
      ],
      "execution_count": 77,
      "outputs": [
        {
          "output_type": "stream",
          "text": [
            "313/313 [==============================] - 3s 8ms/step - loss: 0.0304 - accuracy: 0.9929\n"
          ],
          "name": "stdout"
        },
        {
          "output_type": "execute_result",
          "data": {
            "text/plain": [
              "0.992900013923645"
            ]
          },
          "metadata": {
            "tags": []
          },
          "execution_count": 77
        }
      ]
    },
    {
      "cell_type": "code",
      "metadata": {
        "id": "OjZA9UaJKb5F",
        "colab_type": "code",
        "colab": {
          "base_uri": "https://localhost:8080/",
          "height": 85
        },
        "outputId": "20a037d4-c4b7-4a09-a7ab-40523e8ed830"
      },
      "source": [
        "output = \"nn params {0}\\n nn score {1:.3f}\\ncnn params {2}\\ncnn score {3:.3f}\"\n",
        "print(output.format(answer1, answer2, answer3, answer4))"
      ],
      "execution_count": 78,
      "outputs": [
        {
          "output_type": "stream",
          "text": [
            "nn params 203530\n",
            " nn score 0.982\n",
            "cnn params 121930\n",
            "cnn score 0.993\n"
          ],
          "name": "stdout"
        }
      ]
    },
    {
      "cell_type": "code",
      "metadata": {
        "id": "zauD9ZpBKp85",
        "colab_type": "code",
        "colab": {}
      },
      "source": [
        ""
      ],
      "execution_count": 0,
      "outputs": []
    }
  ]
}