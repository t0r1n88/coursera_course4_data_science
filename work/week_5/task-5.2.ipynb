{
 "cells": [
  {
   "cell_type": "code",
   "execution_count": 1,
   "metadata": {},
   "outputs": [],
   "source": [
    "import tensorflow as tf"
   ]
  },
  {
   "cell_type": "code",
   "execution_count": 2,
   "metadata": {
    "colab": {
     "base_uri": "https://localhost:8080/",
     "height": 102
    },
    "colab_type": "code",
    "id": "0LVHDVTbAIb9",
    "outputId": "78e6aafd-168c-4fdc-9e84-4d02bb4d6cfb"
   },
   "outputs": [
    {
     "name": "stdout",
     "output_type": "stream",
     "text": [
      "`%tensorflow_version` only switches the major version: 1.x or 2.x.\n",
      "You set: `1.6`. This will be interpreted as: `1.x`.\n",
      "\n",
      "\n",
      "TensorFlow is already loaded. Please restart the runtime to change versions.\n"
     ]
    }
   ],
   "source": [
    "%tensorflow_version 1.6"
   ]
  },
  {
   "cell_type": "markdown",
   "metadata": {
    "colab_type": "text",
    "id": "yFRlhe728Z0z"
   },
   "source": [
    "Нейронные сети. Архитектуры нейронных сетей\n",
    "\n",
    "Подготовка данных¶\n",
    "\n",
    "В этом практическом заданий мы будем решать задачу классификации цифр на датасете mnist с помощью полносвязной и сверточной нейронной сети. Для этого мы будем использовать надстройку над tensorflow, которая называется keras. Для начала обсудим данные. mnist датасет состоит из черно-белых изображений цифр размером 28×28 пикселей. В данном случае, мы работаем с одним каналом, хотя в случае цветных изображений, общее число каналов равно трем. Загрузим наши данные используя функцию load_data объекта mnist из модуля keras.dataset. Перед выполнением этого задания убедитесь, что ваша версия tensorflow >= 1.4.\n"
   ]
  },
  {
   "cell_type": "code",
   "execution_count": 2,
   "metadata": {
    "colab": {},
    "colab_type": "code",
    "id": "kklhOQFqy-ln"
   },
   "outputs": [
    {
     "name": "stdout",
     "output_type": "stream",
     "text": [
      "Downloading data from https://storage.googleapis.com/tensorflow/tf-keras-datasets/mnist.npz\n",
      "11493376/11490434 [==============================] - 6s 1us/step\n"
     ]
    }
   ],
   "source": [
    "# Разделим датасет на тренировочную и тестовую выборки\n",
    "(x_train, y_train), (x_test, y_test) = tf.keras.datasets.mnist.load_data()"
   ]
  },
  {
   "cell_type": "code",
   "execution_count": 3,
   "metadata": {
    "colab": {
     "base_uri": "https://localhost:8080/",
     "height": 34
    },
    "colab_type": "code",
    "id": "1PUtlKur_VXR",
    "outputId": "de0ec1e3-87df-4fb8-88ac-129015e0f246"
   },
   "outputs": [
    {
     "data": {
      "text/plain": [
       "((60000, 28, 28), (10000, 28, 28))"
      ]
     },
     "execution_count": 3,
     "metadata": {},
     "output_type": "execute_result"
    }
   ],
   "source": [
    "x_train.shape,x_test.shape"
   ]
  },
  {
   "cell_type": "markdown",
   "metadata": {
    "colab_type": "text",
    "id": "I1uodxcF9K8c"
   },
   "source": [
    "Нормализуйте заруженные данные `x_train` и `x_test`. Для этого следует разделить числовое значение каждого пикселя на $255$. Далее, переведите `y_train` и `y_test` в one-hot представление, используя функцию `tf.keras.utils.to_categorical`. \n",
    "Наше первое задание будет заключатся в реализации полносвязной нейронной сети. Поэтому измените размерность тренировочных и тестовых данных с помощью метода `reshape`.\n",
    "    >> np_vector.shape\n",
    "    >> (28, 28)\n",
    "    >> np_vector = np_vector.reshape(28 * 28)\n",
    "    >> np_vector.shape\n",
    "    >> (784,)"
   ]
  },
  {
   "cell_type": "code",
   "execution_count": 4,
   "metadata": {
    "colab": {},
    "colab_type": "code",
    "id": "MY7QtXA68X4e"
   },
   "outputs": [],
   "source": [
    "# Приводим к float  и нормализуем данные\n",
    "x_train = x_train.astype('float32') / 255\n",
    "x_test = x_test.astype('float32') / 255\n",
    "\n",
    "# Переводим в one-hot.У нас 10 возможных цифр\n",
    "y_train = tf.keras.utils.to_categorical(y_train,10)\n",
    "y_test = tf.keras.utils.to_categorical(y_test,10)\n",
    "\n",
    "# Изменяем размерность\n",
    "x_train = x_train.reshape(60000,784)\n",
    "x_test = x_test.reshape(10000,784)\n",
    "\n"
   ]
  },
  {
   "cell_type": "markdown",
   "metadata": {
    "colab_type": "text",
    "id": "UWl1sAhKAn0j"
   },
   "source": [
    "Полносвязная нейронная сеть.\n",
    "В этой части задания вам предлагается реализовать обычную нейронную сеть с использованием последовательной модели tf.keras.models.Sequential. Данная модель позволяет добавлять слои при помощи функции встроенной add. \n",
    "Наша нейронная сеть будет состоять всего лишь из одного скрытого слоя с количеством нейроннов равным 256, функцией активации ReLU и с input_shape=(784,), что соответствует количеству нейронов во входном слое нашей нейронной сети. Количество нейроннов в выходном слое равно количеству классов, в качестве функции активации нужно использовать softmax. Не забудьте вызвать model.compile после добавления слоев. Используйте в качестве функции потерь categorical_crossentropy, оптимизатор adadelta и метрику accuracy."
   ]
  },
  {
   "cell_type": "code",
   "execution_count": 5,
   "metadata": {
    "colab": {},
    "colab_type": "code",
    "id": "yi7EsZpk9DbM"
   },
   "outputs": [],
   "source": [
    "# Создаем модель\n",
    "model_1 = tf.keras.models.Sequential() \n",
    "\n",
    "# Добавляем слои с требуемыми характеристиками\n",
    "# Скрытый слой\n",
    "model_1.add(tf.keras.layers.Dense(256,activation='relu',input_shape=(784,)))\n",
    "# Выходной слой\n",
    "model_1.add(tf.keras.layers.Dense(10,activation='softmax'))\n"
   ]
  },
  {
   "cell_type": "code",
   "execution_count": 6,
   "metadata": {
    "colab": {},
    "colab_type": "code",
    "id": "khhW3eTFzOAK"
   },
   "outputs": [],
   "source": [
    "# Функция потерь\n",
    "model_1.compile(loss='categorical_crossentropy',optimizer=tf.keras.optimizers.Adadelta(),metrics=['accuracy'])"
   ]
  },
  {
   "cell_type": "markdown",
   "metadata": {
    "colab_type": "text",
    "id": "UeMZSxVvCrfV"
   },
   "source": [
    "После этого, создайте модель и загрузите веса нейронной сети из файла neural_networks.h5. Какое количество настраиваемых параметров содержится в этой нейронной сети. Запишите это число в качестве первого ответа answer1 на это задание. Оцените качетво на тестовой выборке и запишите это значение с точностью до трех знаков после запятой в переменную answer2."
   ]
  },
  {
   "cell_type": "code",
   "execution_count": 7,
   "metadata": {
    "colab": {
     "base_uri": "https://localhost:8080/",
     "height": 34
    },
    "colab_type": "code",
    "id": "HVDMtQn0Cm4w",
    "outputId": "ad671313-76e2-479f-f5d0-69b794575507"
   },
   "outputs": [
    {
     "data": {
      "text/plain": [
       "203530"
      ]
     },
     "execution_count": 7,
     "metadata": {},
     "output_type": "execute_result"
    }
   ],
   "source": [
    "# Загружаем веса нейронной сети\n",
    "model_1.load_weights('neural_networks.h5')\n",
    "# Количество настраиваемых параметров\n",
    "answer1 = model_1.count_params()\n",
    "answer1"
   ]
  },
  {
   "cell_type": "code",
   "execution_count": 8,
   "metadata": {
    "colab": {
     "base_uri": "https://localhost:8080/",
     "height": 51
    },
    "colab_type": "code",
    "id": "2s777hk4C-HQ",
    "outputId": "fa8d49be-0a46-497e-a347-fce1089b4e93"
   },
   "outputs": [
    {
     "name": "stdout",
     "output_type": "stream",
     "text": [
      "10000/10000 [==============================] - 3s 277us/sample - loss: 0.0662 - accuracy: 0.9820\n"
     ]
    },
    {
     "data": {
      "text/plain": [
       "0.982"
      ]
     },
     "execution_count": 8,
     "metadata": {},
     "output_type": "execute_result"
    }
   ],
   "source": [
    "# Оцениваем качество на тестовой выборке\n",
    "loss, accuracy = model_1.evaluate(x_test,y_test)\n",
    "answer2 =  accuracy\n",
    "answer2"
   ]
  },
  {
   "cell_type": "markdown",
   "metadata": {
    "colab_type": "text",
    "id": "12MauhixE3Lq"
   },
   "source": [
    "Сверточная нейронная сеть\n",
    "Далее, вам предлагается реализовать сверточную нейронную сеть.\n",
    "\n",
    "Размерность входного слоя (28,28,1).\n",
    "Сверточный слой с 32 каналами, ядро свертки 3×3.\n",
    "Макспулинг слой (2,2).\n",
    "Сверточный слой с 64 каналами, ядро свертки 3×3.\n",
    "Макспулинг слой (2,2).\n",
    "Понижение размерности признаков.\n",
    "Полносвязный слой с 64 нейронами\n",
    "Выходной слой с количеством нейронов равному количеству классов.\n",
    "Для этого предлагается использовать следующие классы Convolution2D, MaxPooling2D и Flatten для понижения размерности признаков. Все эти классы как и слой полносвязной нейронной сети Dense находятся в tf.keras.layers. Используйте ReLU в качестве функции активации во всех слоях, где это потребуется, кроме выходного, в нем по аналогии с прошлым заданием используется softmax. Аналогичная ситуация с функцией compile после добавления слоев."
   ]
  },
  {
   "cell_type": "code",
   "execution_count": 9,
   "metadata": {
    "colab": {},
    "colab_type": "code",
    "id": "dgnSTgf8D4RM"
   },
   "outputs": [],
   "source": [
    "# Создаем модель сверточной нейронной сети\n",
    "model_2 = tf.keras.models.Sequential()\n",
    "# Добавляем слои\n",
    "# Сверточный слой\n",
    "model_2.add(tf.keras.layers.Convolution2D(32,(3,3),input_shape=(28,28,1),activation='relu'))\n",
    "model_2.add(tf.keras.layers.MaxPool2D((2,2)))\n",
    "model_2.add(tf.keras.layers.Convolution2D(64,(3,3),input_shape=(28,28,1),activation='relu'))\n",
    "model_2.add(tf.keras.layers.MaxPool2D((2,2)))\n",
    "model_2.add(tf.keras.layers.Flatten())\n",
    "# Полносвязный слой\n",
    "model_2.add(tf.keras.layers.Dense(64,activation='relu'))\n",
    "# Выходной слой\n",
    "model_2.add(tf.keras.layers.Dense(10,activation='softmax'))\n"
   ]
  },
  {
   "cell_type": "code",
   "execution_count": 11,
   "metadata": {
    "colab": {},
    "colab_type": "code",
    "id": "7-BYUt3nI6b_"
   },
   "outputs": [],
   "source": [
    "# Функция потерь\n",
    "model_2.compile(loss='categorical_crossentropy',optimizer=tf.keras.optimizers.Adadelta(),metrics=['accuracy'])"
   ]
  },
  {
   "cell_type": "markdown",
   "metadata": {
    "colab_type": "text",
    "id": "sWa2K54PJUjp"
   },
   "source": []
  },
  {
   "cell_type": "code",
   "execution_count": 12,
   "metadata": {
    "colab": {},
    "colab_type": "code",
    "id": "Jx0MEPMiJfj3"
   },
   "outputs": [],
   "source": [
    "# Изменяем размерность\n",
    "x_train = x_train.reshape((60000,28,28,1))\n",
    "x_test = x_test.reshape((10000,28,28,1))"
   ]
  },
  {
   "cell_type": "code",
   "execution_count": 13,
   "metadata": {
    "colab": {},
    "colab_type": "code",
    "id": "LSGPaDImHsC1"
   },
   "outputs": [],
   "source": [
    "# Загружаем веса нейронной сети\n",
    "model_2.load_weights('conv_net.h5')"
   ]
  },
  {
   "cell_type": "code",
   "execution_count": 14,
   "metadata": {
    "colab": {
     "base_uri": "https://localhost:8080/",
     "height": 34
    },
    "colab_type": "code",
    "id": "6r68L48rJ6Sa",
    "outputId": "af0e4240-5483-4b46-81e3-3c86a3039d63"
   },
   "outputs": [
    {
     "data": {
      "text/plain": [
       "121930"
      ]
     },
     "execution_count": 14,
     "metadata": {},
     "output_type": "execute_result"
    }
   ],
   "source": [
    "# Число параметров модели\n",
    "answer3 = model_2.count_params()\n",
    "answer3"
   ]
  },
  {
   "cell_type": "code",
   "execution_count": 15,
   "metadata": {
    "colab": {
     "base_uri": "https://localhost:8080/",
     "height": 51
    },
    "colab_type": "code",
    "id": "pi9LsfD_KN4l",
    "outputId": "2c9acb43-8467-4bfa-e379-ec8e454fba6e"
   },
   "outputs": [
    {
     "name": "stdout",
     "output_type": "stream",
     "text": [
      "10000/10000 [==============================] - 2s 194us/sample - loss: 0.0305 - accuracy: 0.9929\n"
     ]
    },
    {
     "data": {
      "text/plain": [
       "0.9929"
      ]
     },
     "execution_count": 15,
     "metadata": {},
     "output_type": "execute_result"
    }
   ],
   "source": [
    "# Точность\n",
    "loss,accuracy = model_2.evaluate(x_test,y_test)\n",
    "answer4 = accuracy\n",
    "answer4"
   ]
  },
  {
   "cell_type": "code",
   "execution_count": 16,
   "metadata": {
    "colab": {
     "base_uri": "https://localhost:8080/",
     "height": 85
    },
    "colab_type": "code",
    "id": "OjZA9UaJKb5F",
    "outputId": "20a037d4-c4b7-4a09-a7ab-40523e8ed830"
   },
   "outputs": [
    {
     "name": "stdout",
     "output_type": "stream",
     "text": [
      "nn params 203530\n",
      " nn score 0.982\n",
      "cnn params 121930\n",
      "cnn score 0.993\n"
     ]
    }
   ],
   "source": [
    "output = \"nn params {0}\\n nn score {1:.3f}\\ncnn params {2}\\ncnn score {3:.3f}\"\n",
    "print(output.format(answer1, answer2, answer3, answer4))"
   ]
  },
  {
   "cell_type": "code",
   "execution_count": 0,
   "metadata": {
    "colab": {},
    "colab_type": "code",
    "id": "zauD9ZpBKp85"
   },
   "outputs": [],
   "source": []
  }
 ],
 "metadata": {
  "colab": {
   "name": "Untitled0.ipynb",
   "provenance": []
  },
  "kernelspec": {
   "display_name": "Python 3",
   "language": "python",
   "name": "python3"
  },
  "language_info": {
   "codemirror_mode": {
    "name": "ipython",
    "version": 3
   },
   "file_extension": ".py",
   "mimetype": "text/x-python",
   "name": "python",
   "nbconvert_exporter": "python",
   "pygments_lexer": "ipython3",
   "version": "3.7.7"
  }
 },
 "nbformat": 4,
 "nbformat_minor": 1
}
