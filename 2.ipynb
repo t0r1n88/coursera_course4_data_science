{
 "cells": [
  {
   "cell_type": "markdown",
   "metadata": {},
   "source": [
    "# График отображающий клубы по общей стоимости игроков\n",
    "## Подготовка данных(необходимо  превратить строковый признак Value в числовой)"
   ]
  },
  {
   "cell_type": "code",
   "execution_count": 57,
   "metadata": {},
   "outputs": [],
   "source": [
    "import pandas as pd\n",
    "import matplotlib.pyplot as plt\n",
    "import plotly.graph_objects as go\n",
    "#Отключение предупреждений anaconda\n",
    "import warnings\n",
    "warnings.simplefilter('ignore')\n",
    "# Чтобы графики рисовались внутри блокнота\n",
    "%matplotlib inline\n",
    "\n"
   ]
  },
  {
   "cell_type": "code",
   "execution_count": 31,
   "metadata": {},
   "outputs": [],
   "source": [
    "bdf = pd.read_csv('data\\CompleteDataset.csv')"
   ]
  },
  {
   "cell_type": "code",
   "execution_count": 32,
   "metadata": {},
   "outputs": [],
   "source": [
    "df = pd.read_csv('data\\CompleteDataset.csv')"
   ]
  },
  {
   "cell_type": "markdown",
   "metadata": {},
   "source": [
    "## Подготовка данных(необходимо превратить строковый признак Value в числовой)"
   ]
  },
  {
   "cell_type": "markdown",
   "metadata": {},
   "source": [
    " В процессе я обнаружил что моя функция избавления от букв float(x[1:-1]) не работает на значениях вида €0\n",
    " Пришлось создать функцию которая бы учитывала этот случай, также эта функция учитывает возможный неверный символ в конце. Однако эта функция сломается если символ валюты будет содержать больше 1 знака, также она неправильно будет конвертировать  миллиарды и все что больше."
   ]
  },
  {
   "cell_type": "code",
   "execution_count": 52,
   "metadata": {},
   "outputs": [],
   "source": [
    "def convert_money(x):\n",
    "    if x[-1].isdigit():\n",
    "        return float(x[1:])\n",
    "    elif x[-1].isalpha():\n",
    "        return float(x[1:-1]) * 1000000 if x[-1]=='M' else float(x[1:-1]) * 1000\n",
    "    else:\n",
    "        return None\n",
    "df['Value'] = df['Value'].apply(convert_money)\n"
   ]
  },
  {
   "cell_type": "code",
   "execution_count": 83,
   "metadata": {},
   "outputs": [
    {
     "data": {
      "text/plain": [
       "(647, 1)"
      ]
     },
     "execution_count": 83,
     "metadata": {},
     "output_type": "execute_result"
    }
   ],
   "source": [
    "c.shape"
   ]
  },
  {
   "cell_type": "code",
   "execution_count": 72,
   "metadata": {},
   "outputs": [],
   "source": [
    "d = df.groupby('Club')[['Value']].sum().sort_values(\"Value\",ascending=True)"
   ]
  },
  {
   "cell_type": "code",
   "execution_count": 78,
   "metadata": {},
   "outputs": [
    {
     "data": {
      "text/plain": [
       "(647, 1)"
      ]
     },
     "execution_count": 78,
     "metadata": {},
     "output_type": "execute_result"
    }
   ],
   "source": [
    "d.shape"
   ]
  },
  {
   "cell_type": "code",
   "execution_count": null,
   "metadata": {},
   "outputs": [],
   "source": []
  }
 ],
 "metadata": {
  "kernelspec": {
   "display_name": "Python 3",
   "language": "python",
   "name": "python3"
  },
  "language_info": {
   "codemirror_mode": {
    "name": "ipython",
    "version": 3
   },
   "file_extension": ".py",
   "mimetype": "text/x-python",
   "name": "python",
   "nbconvert_exporter": "python",
   "pygments_lexer": "ipython3",
   "version": "3.7.5"
  }
 },
 "nbformat": 4,
 "nbformat_minor": 2
}
